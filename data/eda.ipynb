{
 "cells": [
  {
   "cell_type": "code",
   "execution_count": 1,
   "metadata": {
    "ExecuteTime": {
     "end_time": "2020-06-24T03:42:03.258616Z",
     "start_time": "2020-06-24T03:42:02.801132Z"
    }
   },
   "outputs": [],
   "source": [
    "import h5py\n",
    "import matplotlib.pyplot as plt\n",
    "from write_data import get_embedding, data_loader"
   ]
  },
  {
   "cell_type": "code",
   "execution_count": 9,
   "metadata": {
    "ExecuteTime": {
     "end_time": "2020-06-15T08:55:15.561282Z",
     "start_time": "2020-06-15T08:55:15.546266Z"
    }
   },
   "outputs": [],
   "source": [
    "data_path = './chenzhongjian_all.hdf5'\n",
    "writer_csv = './label_writer_all.csv'\n",
    "character_csv = './label_character_all.csv'\n",
    "data_images, data_character, data_writer = data_loader(data_path)\n",
    "characters, writers = get_embedding(character_csv, writer_csv)"
   ]
  },
  {
   "cell_type": "code",
   "execution_count": 10,
   "metadata": {
    "ExecuteTime": {
     "end_time": "2020-06-15T08:55:16.305893Z",
     "start_time": "2020-06-15T08:55:16.287894Z"
    }
   },
   "outputs": [
    {
     "name": "stdout",
     "output_type": "stream",
     "text": [
      "Total number of images: 350656\n",
      "Total number of writers: 48\n",
      "Total number of characters: 7721\n",
      "Image size: 140×140\n"
     ]
    }
   ],
   "source": [
    "print('Total number of images: %d' % len(data_images))\n",
    "print('Total number of writers: %d' % len(writers))\n",
    "print('Total number of characters: %d' % len(characters))\n",
    "print('Image size: %d×%d' % (len(data_images[0]), len(data_images[0][0])))"
   ]
  },
  {
   "cell_type": "code",
   "execution_count": 12,
   "metadata": {
    "ExecuteTime": {
     "end_time": "2020-06-15T08:55:55.076649Z",
     "start_time": "2020-06-15T08:55:27.724041Z"
    }
   },
   "outputs": [
    {
     "data": {
      "image/png": "[encoded data removed]",
      "text/plain": [
       "<Figure size 432x288 with 1 Axes>"
      ]
     },
     "metadata": {
      "needs_background": "light"
     },
     "output_type": "display_data"
    },
    {
     "name": "stdout",
     "output_type": "stream",
     "text": [
      "Characters with more than 100 images: 173\n",
      "Characters with more than 50 images: 3917\n",
      "Characters with more than 30 images: 6054\n"
     ]
    }
   ],
   "source": [
    "character_number = {}\n",
    "for item in characters.values():\n",
    "    character_number[item] = 0\n",
    "\n",
    "for i in range(0, len(data_images)):\n",
    "    character_number[data_character[i]] += 1\n",
    "\n",
    "plt.figure()\n",
    "plt.title('Distribution of the number of images owned by each character')\n",
    "plt.hist(list(character_number.values()), bins=200)\n",
    "plt.xlabel('number of images')\n",
    "plt.ylabel('number of characters')\n",
    "plt.show()\n",
    "\n",
    "character_more_than_30 = 0\n",
    "character_more_than_50 = 0\n",
    "character_more_than_100 = 0\n",
    "for item in character_number.values():\n",
    "    if item >= 100:\n",
    "        character_more_than_100 += 1\n",
    "    if item >= 50:\n",
    "        character_more_than_50 += 1\n",
    "    if item >= 30:\n",
    "        character_more_than_30 += 1\n",
    "\n",
    "print('Characters with more than 100 images: %d' % character_more_than_100)\n",
    "print('Characters with more than 50 images: %d' % character_more_than_50)\n",
    "print('Characters with more than 30 images: %d' % character_more_than_30)"
   ]
  },
  {
   "cell_type": "code",
   "execution_count": null,
   "metadata": {},
   "outputs": [],
   "source": []
  }
 ],
 "metadata": {
  "kernelspec": {
   "display_name": "Python 3",
   "language": "python",
   "name": "python3"
  },
  "language_info": {
   "codemirror_mode": {
    "name": "ipython",
    "version": 3
   },
   "file_extension": ".py",
   "mimetype": "text/x-python",
   "name": "python",
   "nbconvert_exporter": "python",
   "pygments_lexer": "ipython3",
   "version": "3.6.9"
  },
  "pycharm": {
   "stem_cell": {
    "cell_type": "raw",
    "metadata": {
     "collapsed": false
    },
    "source": [
     "#"
    ]
   }
  },
  "toc": {
   "base_numbering": 1,
   "nav_menu": {},
   "number_sections": true,
   "sideBar": true,
   "skip_h1_title": false,
   "title_cell": "Table of Contents",
   "title_sidebar": "Contents",
   "toc_cell": false,
   "toc_position": {},
   "toc_section_display": true,
   "toc_window_display": false
  },
  "varInspector": {
   "cols": {
    "lenName": 16,
    "lenType": 16,
    "lenVar": 40
   },
   "kernels_config": {
    "python": {
     "delete_cmd_postfix": "",
     "delete_cmd_prefix": "del ",
     "library": "var_list.py",
     "varRefreshCmd": "print(var_dic_list())"
    },
    "r": {
     "delete_cmd_postfix": ") ",
     "delete_cmd_prefix": "rm(",
     "library": "var_list.r",
     "varRefreshCmd": "cat(var_dic_list()) "
    }
   },
   "types_to_exclude": [
    "module",
    "function",
    "builtin_function_or_method",
    "instance",
    "_Feature"
   ],
   "window_display": false
  }
 },
 "nbformat": 4,
 "nbformat_minor": 1
}
