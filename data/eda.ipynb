{
 "cells": [
  {
   "cell_type": "code",
   "execution_count": 1,
   "metadata": {
    "ExecuteTime": {
     "end_time": "2020-06-03T12:04:17.560321Z",
     "start_time": "2020-06-03T12:04:17.078935Z"
    }
   },
   "outputs": [],
   "source": [
    "import h5py\n",
    "import matplotlib.pyplot as plt"
   ]
  },
  {
   "cell_type": "code",
   "execution_count": 2,
   "metadata": {
    "ExecuteTime": {
     "end_time": "2020-06-03T12:04:17.576170Z",
     "start_time": "2020-06-03T12:04:17.562169Z"
    }
   },
   "outputs": [],
   "source": [
    "def get_embedding(writer_csv, character_csv):\n",
    "    writers = {}\n",
    "    characters = {}\n",
    "    with open(writer_csv, 'r', encoding='utf-8') as f:\n",
    "        for line in f.readlines():\n",
    "            writers[line.split(',')[0]] = int(line.split(',')[1])\n",
    "\n",
    "    with open(character_csv, 'r', encoding='utf-8') as f:\n",
    "        for line in f.readlines():\n",
    "            characters[line.split(',')[0]] = int(line.split(',')[1])\n",
    "\n",
    "    return characters, writers"
   ]
  },
  {
   "cell_type": "code",
   "execution_count": 3,
   "metadata": {
    "ExecuteTime": {
     "end_time": "2020-06-03T12:04:17.592254Z",
     "start_time": "2020-06-03T12:04:17.579178Z"
    }
   },
   "outputs": [],
   "source": [
    "def data_loader(data_path):\n",
    "    f = h5py.File(data_path, 'r')\n",
    "    data_images = f['image']\n",
    "    data_character = f['character_label']\n",
    "    data_writer = f['writer_label']\n",
    "\n",
    "    return data_images, data_character, data_writer"
   ]
  },
  {
   "cell_type": "code",
   "execution_count": 4,
   "metadata": {
    "ExecuteTime": {
     "end_time": "2020-06-03T12:04:17.608104Z",
     "start_time": "2020-06-03T12:04:17.594255Z"
    }
   },
   "outputs": [],
   "source": [
    "type_suffix = 'simple'\n",
    "data_path = './chenzhongjian_%s.hdf5' % type_suffix\n",
    "writer_csv = './label_writer_%s.csv' % type_suffix\n",
    "character_csv = './label_character_%s.csv' % type_suffix\n",
    "data_images, data_character, data_writer = data_loader(data_path)\n",
    "characters, writers = get_embedding(writer_csv, character_csv)"
   ]
  },
  {
   "cell_type": "code",
   "execution_count": 5,
   "metadata": {
    "ExecuteTime": {
     "end_time": "2020-06-03T12:04:17.624192Z",
     "start_time": "2020-06-03T12:04:17.609001Z"
    }
   },
   "outputs": [
    {
     "name": "stdout",
     "output_type": "stream",
     "text": [
      "Total number of images: 138500\n",
      "Total number of writers: 19\n",
      "Total number of characters: 7328\n",
      "Image size: 140×140\n"
     ]
    }
   ],
   "source": [
    "print('Total number of images: %d' % len(data_images))\n",
    "print('Total number of writers: %d' % len(writers))\n",
    "print('Total number of characters: %d' % len(characters))\n",
    "print('Image size: %d×%d' % (len(data_images[0]), len(data_images[0][0])))"
   ]
  },
  {
   "cell_type": "code",
   "execution_count": 6,
   "metadata": {
    "ExecuteTime": {
     "end_time": "2020-06-03T12:04:28.550203Z",
     "start_time": "2020-06-03T12:04:17.625201Z"
    }
   },
   "outputs": [
    {
     "data": {
      "image/png": "[encoded data removed]",
      "text/plain": [
       "<Figure size 432x288 with 1 Axes>"
      ]
     },
     "metadata": {
      "needs_background": "light"
     },
     "output_type": "display_data"
    }
   ],
   "source": [
    "character_number = {}\n",
    "for item in characters.values():\n",
    "    character_number[item] = 0\n",
    "# print(character_number)\n",
    "\n",
    "for i in range(0, len(data_images)):\n",
    "    character_number[data_character[i]] += 1\n",
    "\n",
    "plt.figure()\n",
    "plt.title('Distribution of the number of images owned by each character')\n",
    "plt.hist(list(character_number.values()), bins=200)\n",
    "plt.xlabel('number of images')\n",
    "plt.ylabel('number of characters')\n",
    "plt.show()"
   ]
  },
  {
   "cell_type": "code",
   "execution_count": null,
   "metadata": {},
   "outputs": [],
   "source": []
  }
 ],
 "metadata": {
  "kernelspec": {
   "display_name": "Python 3",
   "language": "python",
   "name": "python3"
  },
  "language_info": {
   "codemirror_mode": {
    "name": "ipython",
    "version": 3
   },
   "file_extension": ".py",
   "mimetype": "text/x-python",
   "name": "python",
   "nbconvert_exporter": "python",
   "pygments_lexer": "ipython3",
   "version": "3.6.9"
  },
  "pycharm": {
   "stem_cell": {
    "cell_type": "raw",
    "metadata": {
     "collapsed": false
    },
    "source": [
     "#"
    ]
   }
  },
  "toc": {
   "base_numbering": 1,
   "nav_menu": {},
   "number_sections": true,
   "sideBar": true,
   "skip_h1_title": false,
   "title_cell": "Table of Contents",
   "title_sidebar": "Contents",
   "toc_cell": false,
   "toc_position": {},
   "toc_section_display": true,
   "toc_window_display": false
  },
  "varInspector": {
   "cols": {
    "lenName": 16,
    "lenType": 16,
    "lenVar": 40
   },
   "kernels_config": {
    "python": {
     "delete_cmd_postfix": "",
     "delete_cmd_prefix": "del ",
     "library": "var_list.py",
     "varRefreshCmd": "print(var_dic_list())"
    },
    "r": {
     "delete_cmd_postfix": ") ",
     "delete_cmd_prefix": "rm(",
     "library": "var_list.r",
     "varRefreshCmd": "cat(var_dic_list()) "
    }
   },
   "types_to_exclude": [
    "module",
    "function",
    "builtin_function_or_method",
    "instance",
    "_Feature"
   ],
   "window_display": false
  }
 },
 "nbformat": 4,
 "nbformat_minor": 1
}
